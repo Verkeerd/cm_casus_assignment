{
 "cells": [
  {
   "cell_type": "code",
   "execution_count": 1,
   "id": "14079911",
   "metadata": {},
   "outputs": [],
   "source": [
    "# Command to enable 3d widgets\n",
    "import numpy as np\n",
    "import pandas as pd\n",
    "import matplotlib.pyplot as plt\n",
    "from sklearn.datasets import load_digits\n",
    "from sklearn.model_selection import train_test_split\n",
    "from sklearn.metrics import accuracy_score\n",
    "from sklearn.tree import DecisionTreeClassifier\n",
    "from sklearn import tree\n",
    "\n"
   ]
  },
  {
   "cell_type": "code",
   "execution_count": 2,
   "id": "37f3f508",
   "metadata": {},
   "outputs": [],
   "source": [
    "# Loads the movie dataset.\n",
    "movie_df = pd.read_csv(\"movie.csv\", delimiter=\",\")\n",
    "\n",
    "oscars = pd.read_csv(\"the_oscar_award.csv\")"
   ]
  },
  {
   "cell_type": "code",
   "execution_count": 3,
   "id": "a1210dfb",
   "metadata": {},
   "outputs": [
    {
     "data": {
      "text/plain": [
       "117"
      ]
     },
     "execution_count": 3,
     "metadata": {},
     "output_type": "execute_result"
    }
   ],
   "source": [
    "counts = movie_df[\"movie_imdb_link\"].value_counts()\n",
    "\n",
    "len(counts[counts > 1])"
   ]
  },
  {
   "cell_type": "code",
   "execution_count": 4,
   "id": "893f06f5",
   "metadata": {},
   "outputs": [
    {
     "data": {
      "text/plain": [
       "1"
      ]
     },
     "execution_count": 4,
     "metadata": {},
     "output_type": "execute_result"
    }
   ],
   "source": [
    "movie_df = movie_df.drop_duplicates(subset=[\"movie_imdb_link\"], keep=\"first\")\n",
    "\n",
    "movie_df[\"movie_imdb_link\"].value_counts().max()"
   ]
  },
  {
   "cell_type": "code",
   "execution_count": 5,
   "id": "caef2967",
   "metadata": {},
   "outputs": [
    {
     "data": {
      "text/plain": [
       "2"
      ]
     },
     "execution_count": 5,
     "metadata": {},
     "output_type": "execute_result"
    }
   ],
   "source": [
    "counts = movie_df[\"movie_title\"].value_counts()\n",
    "len(counts[counts > 1])"
   ]
  },
  {
   "cell_type": "code",
   "execution_count": 6,
   "id": "1f596fde",
   "metadata": {},
   "outputs": [],
   "source": [
    "movie_df[\"movie_title\"].fillna(0, inplace=True)"
   ]
  },
  {
   "cell_type": "code",
   "execution_count": 7,
   "id": "822843c6",
   "metadata": {},
   "outputs": [
    {
     "data": {
      "text/plain": [
       "The Host            2\n",
       "Out of the Blue     2\n",
       "Avatar              1\n",
       "The Rose            1\n",
       "Glitter             1\n",
       "Name: movie_title, dtype: int64"
      ]
     },
     "execution_count": 7,
     "metadata": {},
     "output_type": "execute_result"
    }
   ],
   "source": [
    "counts = movie_df[\"movie_title\"].value_counts()\n",
    "counts.head()"
   ]
  },
  {
   "cell_type": "code",
   "execution_count": 8,
   "id": "9d84aa5c",
   "metadata": {},
   "outputs": [
    {
     "data": {
      "text/plain": [
       "(0, 7)"
      ]
     },
     "execution_count": 8,
     "metadata": {},
     "output_type": "execute_result"
    }
   ],
   "source": [
    "oscars.dropna(how=\"any\", inplace=True)\n",
    "\n",
    "# Drops all oscar nominations that have not won\n",
    "oscars = oscars[oscars[\"winner\"]]\n",
    "\n",
    "oscars.loc[(oscars[\"film\"] == oscars[\"film\"]) & (oscars[\"year_film\"] != oscars[\"year_film\"]), :].shape"
   ]
  },
  {
   "cell_type": "code",
   "execution_count": 9,
   "id": "2941e690",
   "metadata": {},
   "outputs": [
    {
     "data": {
      "text/html": [
       "<div>\n",
       "<style scoped>\n",
       "    .dataframe tbody tr th:only-of-type {\n",
       "        vertical-align: middle;\n",
       "    }\n",
       "\n",
       "    .dataframe tbody tr th {\n",
       "        vertical-align: top;\n",
       "    }\n",
       "\n",
       "    .dataframe thead th {\n",
       "        text-align: right;\n",
       "    }\n",
       "</style>\n",
       "<table border=\"1\" class=\"dataframe\">\n",
       "  <thead>\n",
       "    <tr style=\"text-align: right;\">\n",
       "      <th></th>\n",
       "      <th>year_film</th>\n",
       "      <th>year_ceremony</th>\n",
       "      <th>ceremony</th>\n",
       "      <th>category</th>\n",
       "      <th>name</th>\n",
       "      <th>film</th>\n",
       "      <th>winner</th>\n",
       "    </tr>\n",
       "  </thead>\n",
       "  <tbody>\n",
       "    <tr>\n",
       "      <th>1</th>\n",
       "      <td>1927</td>\n",
       "      <td>1928</td>\n",
       "      <td>1</td>\n",
       "      <td>ACTOR</td>\n",
       "      <td>Emil Jannings</td>\n",
       "      <td>The Last Command</td>\n",
       "      <td>True</td>\n",
       "    </tr>\n",
       "    <tr>\n",
       "      <th>6</th>\n",
       "      <td>1927</td>\n",
       "      <td>1928</td>\n",
       "      <td>1</td>\n",
       "      <td>ART DIRECTION</td>\n",
       "      <td>William Cameron Menzies</td>\n",
       "      <td>The Dove;</td>\n",
       "      <td>True</td>\n",
       "    </tr>\n",
       "    <tr>\n",
       "      <th>11</th>\n",
       "      <td>1927</td>\n",
       "      <td>1928</td>\n",
       "      <td>1</td>\n",
       "      <td>DIRECTING (Comedy Picture)</td>\n",
       "      <td>Lewis Milestone</td>\n",
       "      <td>Two Arabian Knights</td>\n",
       "      <td>True</td>\n",
       "    </tr>\n",
       "    <tr>\n",
       "      <th>21</th>\n",
       "      <td>1927</td>\n",
       "      <td>1928</td>\n",
       "      <td>1</td>\n",
       "      <td>OUTSTANDING PICTURE</td>\n",
       "      <td>Paramount Famous Lasky</td>\n",
       "      <td>Wings</td>\n",
       "      <td>True</td>\n",
       "    </tr>\n",
       "    <tr>\n",
       "      <th>22</th>\n",
       "      <td>1927</td>\n",
       "      <td>1928</td>\n",
       "      <td>1</td>\n",
       "      <td>UNIQUE AND ARTISTIC PICTURE</td>\n",
       "      <td>Fox</td>\n",
       "      <td>Sunrise</td>\n",
       "      <td>True</td>\n",
       "    </tr>\n",
       "  </tbody>\n",
       "</table>\n",
       "</div>"
      ],
      "text/plain": [
       "    year_film  year_ceremony  ceremony                     category  \\\n",
       "1        1927           1928         1                        ACTOR   \n",
       "6        1927           1928         1                ART DIRECTION   \n",
       "11       1927           1928         1   DIRECTING (Comedy Picture)   \n",
       "21       1927           1928         1          OUTSTANDING PICTURE   \n",
       "22       1927           1928         1  UNIQUE AND ARTISTIC PICTURE   \n",
       "\n",
       "                       name                 film  winner  \n",
       "1             Emil Jannings     The Last Command    True  \n",
       "6   William Cameron Menzies            The Dove;    True  \n",
       "11          Lewis Milestone  Two Arabian Knights    True  \n",
       "21   Paramount Famous Lasky                Wings    True  \n",
       "22                      Fox              Sunrise    True  "
      ]
     },
     "execution_count": 9,
     "metadata": {},
     "output_type": "execute_result"
    }
   ],
   "source": [
    "# Drops all oscars but one for each film.\n",
    "oscars.drop_duplicates(\"film\", keep=\"last\", inplace=True)\n",
    "\n",
    "oscars.head()"
   ]
  },
  {
   "cell_type": "code",
   "execution_count": 10,
   "id": "5a91acde",
   "metadata": {},
   "outputs": [
    {
     "name": "stdout",
     "output_type": "stream",
     "text": [
      "(4919, 29)\n"
     ]
    },
    {
     "data": {
      "text/plain": [
       "0"
      ]
     },
     "execution_count": 10,
     "metadata": {},
     "output_type": "execute_result"
    }
   ],
   "source": [
    "# Rename column names to match meaning in new dataset.\n",
    "oscars = oscars.rename({\"film\" : \"movie_title\", \"winner\" : \"oscar\"}, axis=1)\n",
    "# We only select the columns we need.\n",
    "oscars = oscars[[\"movie_title\", \"oscar\"]]\n",
    "\n",
    "def quick_clean(movie_data):\n",
    "    \"\"\"strips a string and turns all characters to lower caps.\"\"\"\n",
    "    return movie_data.lower().strip()\n",
    "\n",
    "# Cleans the name of the movie title in both datasets.\n",
    "oscars[\"movie_title\"] = oscars[\"movie_title\"].apply(quick_clean)\n",
    "movie_df[\"movie_title\"] = movie_df[\"movie_title\"].apply(quick_clean)\n",
    "\n",
    "# Merges the two datasets on the movie title.\n",
    "movie_df = pd.merge(movie_df, oscars, on=\"movie_title\", how=\"left\") \n",
    "movie_df[\"oscar\"] = movie_df[\"oscar\"].fillna(False)\n",
    "\n",
    "print(movie_df.shape)\n",
    "\n",
    "movie_df[\"oscar\"].isna().sum()"
   ]
  },
  {
   "cell_type": "code",
   "execution_count": 11,
   "id": "d053d33c",
   "metadata": {},
   "outputs": [
    {
     "data": {
      "text/plain": [
       "the dead zone                                       2\n",
       "the host                                            2\n",
       "out of the blue                                     2\n",
       "avatar                                              1\n",
       "the haunting in connecticut 2: ghosts of georgia    1\n",
       "Name: movie_title, dtype: int64"
      ]
     },
     "execution_count": 11,
     "metadata": {},
     "output_type": "execute_result"
    }
   ],
   "source": [
    "counts = movie_df[\"movie_title\"].value_counts()\n",
    "counts.head()"
   ]
  },
  {
   "cell_type": "code",
   "execution_count": 17,
   "id": "5175af6e",
   "metadata": {},
   "outputs": [],
   "source": [
    "movie_df_drop = movie_df.drop(['color', 'director_name','plot_keywords','content_rating','title_year','actor_2_facebook_likes','aspect_ratio','num_critic_for_reviews','actor_2_name','actor_3_name','movie_imdb_link','language','country','movie_title','actor_1_name','director_facebook_likes','actor_3_facebook_likes','facenumber_in_poster','actor_1_facebook_likes','num_user_for_reviews','budget','cast_total_facebook_likes','movie_facebook_likes','num_voted_users','imdb_score'], axis = 1)"
   ]
  },
  {
   "cell_type": "code",
   "execution_count": 18,
   "id": "9ec77efd",
   "metadata": {},
   "outputs": [],
   "source": [
    "movie_df_drop[\"gross\"].fillna(0, inplace=True)"
   ]
  },
  {
   "cell_type": "code",
   "execution_count": 19,
   "id": "32816ab2",
   "metadata": {},
   "outputs": [],
   "source": [
    "movie_df_drop[\"duration\"].fillna(0, inplace=True)"
   ]
  },
  {
   "cell_type": "code",
   "execution_count": 20,
   "id": "04c2e9d1",
   "metadata": {},
   "outputs": [
    {
     "data": {
      "text/plain": [
       "duration    0\n",
       "gross       0\n",
       "genres      0\n",
       "oscar       0\n",
       "dtype: int64"
      ]
     },
     "execution_count": 20,
     "metadata": {},
     "output_type": "execute_result"
    }
   ],
   "source": [
    "movie_df_drop.isna().sum()"
   ]
  },
  {
   "cell_type": "code",
   "execution_count": 21,
   "id": "a31bea5c",
   "metadata": {},
   "outputs": [
    {
     "data": {
      "text/html": [
       "<div>\n",
       "<style scoped>\n",
       "    .dataframe tbody tr th:only-of-type {\n",
       "        vertical-align: middle;\n",
       "    }\n",
       "\n",
       "    .dataframe tbody tr th {\n",
       "        vertical-align: top;\n",
       "    }\n",
       "\n",
       "    .dataframe thead th {\n",
       "        text-align: right;\n",
       "    }\n",
       "</style>\n",
       "<table border=\"1\" class=\"dataframe\">\n",
       "  <thead>\n",
       "    <tr style=\"text-align: right;\">\n",
       "      <th></th>\n",
       "      <th>duration</th>\n",
       "      <th>gross</th>\n",
       "      <th>oscar</th>\n",
       "      <th>genres_Action</th>\n",
       "      <th>genres_Action|Adventure</th>\n",
       "      <th>genres_Action|Adventure|Animation|Comedy|Crime|Family|Fantasy</th>\n",
       "      <th>genres_Action|Adventure|Animation|Comedy|Drama|Family|Fantasy|Thriller</th>\n",
       "      <th>genres_Action|Adventure|Animation|Comedy|Drama|Family|Sci-Fi</th>\n",
       "      <th>genres_Action|Adventure|Animation|Comedy|Family</th>\n",
       "      <th>genres_Action|Adventure|Animation|Comedy|Family|Fantasy</th>\n",
       "      <th>...</th>\n",
       "      <th>genres_Mystery|Western</th>\n",
       "      <th>genres_Romance</th>\n",
       "      <th>genres_Romance|Sci-Fi|Thriller</th>\n",
       "      <th>genres_Romance|Short</th>\n",
       "      <th>genres_Sci-Fi</th>\n",
       "      <th>genres_Sci-Fi|Thriller</th>\n",
       "      <th>genres_Thriller</th>\n",
       "      <th>genres_Thriller|War</th>\n",
       "      <th>genres_Thriller|Western</th>\n",
       "      <th>genres_Western</th>\n",
       "    </tr>\n",
       "  </thead>\n",
       "  <tbody>\n",
       "    <tr>\n",
       "      <th>0</th>\n",
       "      <td>178.0</td>\n",
       "      <td>760505847.0</td>\n",
       "      <td>True</td>\n",
       "      <td>0</td>\n",
       "      <td>0</td>\n",
       "      <td>0</td>\n",
       "      <td>0</td>\n",
       "      <td>0</td>\n",
       "      <td>0</td>\n",
       "      <td>0</td>\n",
       "      <td>...</td>\n",
       "      <td>0</td>\n",
       "      <td>0</td>\n",
       "      <td>0</td>\n",
       "      <td>0</td>\n",
       "      <td>0</td>\n",
       "      <td>0</td>\n",
       "      <td>0</td>\n",
       "      <td>0</td>\n",
       "      <td>0</td>\n",
       "      <td>0</td>\n",
       "    </tr>\n",
       "    <tr>\n",
       "      <th>1</th>\n",
       "      <td>169.0</td>\n",
       "      <td>309404152.0</td>\n",
       "      <td>False</td>\n",
       "      <td>0</td>\n",
       "      <td>0</td>\n",
       "      <td>0</td>\n",
       "      <td>0</td>\n",
       "      <td>0</td>\n",
       "      <td>0</td>\n",
       "      <td>0</td>\n",
       "      <td>...</td>\n",
       "      <td>0</td>\n",
       "      <td>0</td>\n",
       "      <td>0</td>\n",
       "      <td>0</td>\n",
       "      <td>0</td>\n",
       "      <td>0</td>\n",
       "      <td>0</td>\n",
       "      <td>0</td>\n",
       "      <td>0</td>\n",
       "      <td>0</td>\n",
       "    </tr>\n",
       "    <tr>\n",
       "      <th>2</th>\n",
       "      <td>148.0</td>\n",
       "      <td>200074175.0</td>\n",
       "      <td>True</td>\n",
       "      <td>0</td>\n",
       "      <td>0</td>\n",
       "      <td>0</td>\n",
       "      <td>0</td>\n",
       "      <td>0</td>\n",
       "      <td>0</td>\n",
       "      <td>0</td>\n",
       "      <td>...</td>\n",
       "      <td>0</td>\n",
       "      <td>0</td>\n",
       "      <td>0</td>\n",
       "      <td>0</td>\n",
       "      <td>0</td>\n",
       "      <td>0</td>\n",
       "      <td>0</td>\n",
       "      <td>0</td>\n",
       "      <td>0</td>\n",
       "      <td>0</td>\n",
       "    </tr>\n",
       "    <tr>\n",
       "      <th>3</th>\n",
       "      <td>164.0</td>\n",
       "      <td>448130642.0</td>\n",
       "      <td>False</td>\n",
       "      <td>0</td>\n",
       "      <td>0</td>\n",
       "      <td>0</td>\n",
       "      <td>0</td>\n",
       "      <td>0</td>\n",
       "      <td>0</td>\n",
       "      <td>0</td>\n",
       "      <td>...</td>\n",
       "      <td>0</td>\n",
       "      <td>0</td>\n",
       "      <td>0</td>\n",
       "      <td>0</td>\n",
       "      <td>0</td>\n",
       "      <td>0</td>\n",
       "      <td>0</td>\n",
       "      <td>0</td>\n",
       "      <td>0</td>\n",
       "      <td>0</td>\n",
       "    </tr>\n",
       "    <tr>\n",
       "      <th>4</th>\n",
       "      <td>0.0</td>\n",
       "      <td>0.0</td>\n",
       "      <td>False</td>\n",
       "      <td>0</td>\n",
       "      <td>0</td>\n",
       "      <td>0</td>\n",
       "      <td>0</td>\n",
       "      <td>0</td>\n",
       "      <td>0</td>\n",
       "      <td>0</td>\n",
       "      <td>...</td>\n",
       "      <td>0</td>\n",
       "      <td>0</td>\n",
       "      <td>0</td>\n",
       "      <td>0</td>\n",
       "      <td>0</td>\n",
       "      <td>0</td>\n",
       "      <td>0</td>\n",
       "      <td>0</td>\n",
       "      <td>0</td>\n",
       "      <td>0</td>\n",
       "    </tr>\n",
       "    <tr>\n",
       "      <th>...</th>\n",
       "      <td>...</td>\n",
       "      <td>...</td>\n",
       "      <td>...</td>\n",
       "      <td>...</td>\n",
       "      <td>...</td>\n",
       "      <td>...</td>\n",
       "      <td>...</td>\n",
       "      <td>...</td>\n",
       "      <td>...</td>\n",
       "      <td>...</td>\n",
       "      <td>...</td>\n",
       "      <td>...</td>\n",
       "      <td>...</td>\n",
       "      <td>...</td>\n",
       "      <td>...</td>\n",
       "      <td>...</td>\n",
       "      <td>...</td>\n",
       "      <td>...</td>\n",
       "      <td>...</td>\n",
       "      <td>...</td>\n",
       "      <td>...</td>\n",
       "    </tr>\n",
       "    <tr>\n",
       "      <th>4914</th>\n",
       "      <td>87.0</td>\n",
       "      <td>0.0</td>\n",
       "      <td>False</td>\n",
       "      <td>0</td>\n",
       "      <td>0</td>\n",
       "      <td>0</td>\n",
       "      <td>0</td>\n",
       "      <td>0</td>\n",
       "      <td>0</td>\n",
       "      <td>0</td>\n",
       "      <td>...</td>\n",
       "      <td>0</td>\n",
       "      <td>0</td>\n",
       "      <td>0</td>\n",
       "      <td>0</td>\n",
       "      <td>0</td>\n",
       "      <td>0</td>\n",
       "      <td>0</td>\n",
       "      <td>0</td>\n",
       "      <td>0</td>\n",
       "      <td>0</td>\n",
       "    </tr>\n",
       "    <tr>\n",
       "      <th>4915</th>\n",
       "      <td>43.0</td>\n",
       "      <td>0.0</td>\n",
       "      <td>False</td>\n",
       "      <td>0</td>\n",
       "      <td>0</td>\n",
       "      <td>0</td>\n",
       "      <td>0</td>\n",
       "      <td>0</td>\n",
       "      <td>0</td>\n",
       "      <td>0</td>\n",
       "      <td>...</td>\n",
       "      <td>0</td>\n",
       "      <td>0</td>\n",
       "      <td>0</td>\n",
       "      <td>0</td>\n",
       "      <td>0</td>\n",
       "      <td>0</td>\n",
       "      <td>0</td>\n",
       "      <td>0</td>\n",
       "      <td>0</td>\n",
       "      <td>0</td>\n",
       "    </tr>\n",
       "    <tr>\n",
       "      <th>4916</th>\n",
       "      <td>76.0</td>\n",
       "      <td>0.0</td>\n",
       "      <td>False</td>\n",
       "      <td>0</td>\n",
       "      <td>0</td>\n",
       "      <td>0</td>\n",
       "      <td>0</td>\n",
       "      <td>0</td>\n",
       "      <td>0</td>\n",
       "      <td>0</td>\n",
       "      <td>...</td>\n",
       "      <td>0</td>\n",
       "      <td>0</td>\n",
       "      <td>0</td>\n",
       "      <td>0</td>\n",
       "      <td>0</td>\n",
       "      <td>0</td>\n",
       "      <td>0</td>\n",
       "      <td>0</td>\n",
       "      <td>0</td>\n",
       "      <td>0</td>\n",
       "    </tr>\n",
       "    <tr>\n",
       "      <th>4917</th>\n",
       "      <td>100.0</td>\n",
       "      <td>10443.0</td>\n",
       "      <td>False</td>\n",
       "      <td>0</td>\n",
       "      <td>0</td>\n",
       "      <td>0</td>\n",
       "      <td>0</td>\n",
       "      <td>0</td>\n",
       "      <td>0</td>\n",
       "      <td>0</td>\n",
       "      <td>...</td>\n",
       "      <td>0</td>\n",
       "      <td>0</td>\n",
       "      <td>0</td>\n",
       "      <td>0</td>\n",
       "      <td>0</td>\n",
       "      <td>0</td>\n",
       "      <td>0</td>\n",
       "      <td>0</td>\n",
       "      <td>0</td>\n",
       "      <td>0</td>\n",
       "    </tr>\n",
       "    <tr>\n",
       "      <th>4918</th>\n",
       "      <td>90.0</td>\n",
       "      <td>85222.0</td>\n",
       "      <td>False</td>\n",
       "      <td>0</td>\n",
       "      <td>0</td>\n",
       "      <td>0</td>\n",
       "      <td>0</td>\n",
       "      <td>0</td>\n",
       "      <td>0</td>\n",
       "      <td>0</td>\n",
       "      <td>...</td>\n",
       "      <td>0</td>\n",
       "      <td>0</td>\n",
       "      <td>0</td>\n",
       "      <td>0</td>\n",
       "      <td>0</td>\n",
       "      <td>0</td>\n",
       "      <td>0</td>\n",
       "      <td>0</td>\n",
       "      <td>0</td>\n",
       "      <td>0</td>\n",
       "    </tr>\n",
       "  </tbody>\n",
       "</table>\n",
       "<p>4919 rows × 917 columns</p>\n",
       "</div>"
      ],
      "text/plain": [
       "      duration        gross  oscar  genres_Action  genres_Action|Adventure  \\\n",
       "0        178.0  760505847.0   True              0                        0   \n",
       "1        169.0  309404152.0  False              0                        0   \n",
       "2        148.0  200074175.0   True              0                        0   \n",
       "3        164.0  448130642.0  False              0                        0   \n",
       "4          0.0          0.0  False              0                        0   \n",
       "...        ...          ...    ...            ...                      ...   \n",
       "4914      87.0          0.0  False              0                        0   \n",
       "4915      43.0          0.0  False              0                        0   \n",
       "4916      76.0          0.0  False              0                        0   \n",
       "4917     100.0      10443.0  False              0                        0   \n",
       "4918      90.0      85222.0  False              0                        0   \n",
       "\n",
       "      genres_Action|Adventure|Animation|Comedy|Crime|Family|Fantasy  \\\n",
       "0                                                     0               \n",
       "1                                                     0               \n",
       "2                                                     0               \n",
       "3                                                     0               \n",
       "4                                                     0               \n",
       "...                                                 ...               \n",
       "4914                                                  0               \n",
       "4915                                                  0               \n",
       "4916                                                  0               \n",
       "4917                                                  0               \n",
       "4918                                                  0               \n",
       "\n",
       "      genres_Action|Adventure|Animation|Comedy|Drama|Family|Fantasy|Thriller  \\\n",
       "0                                                     0                        \n",
       "1                                                     0                        \n",
       "2                                                     0                        \n",
       "3                                                     0                        \n",
       "4                                                     0                        \n",
       "...                                                 ...                        \n",
       "4914                                                  0                        \n",
       "4915                                                  0                        \n",
       "4916                                                  0                        \n",
       "4917                                                  0                        \n",
       "4918                                                  0                        \n",
       "\n",
       "      genres_Action|Adventure|Animation|Comedy|Drama|Family|Sci-Fi  \\\n",
       "0                                                     0              \n",
       "1                                                     0              \n",
       "2                                                     0              \n",
       "3                                                     0              \n",
       "4                                                     0              \n",
       "...                                                 ...              \n",
       "4914                                                  0              \n",
       "4915                                                  0              \n",
       "4916                                                  0              \n",
       "4917                                                  0              \n",
       "4918                                                  0              \n",
       "\n",
       "      genres_Action|Adventure|Animation|Comedy|Family  \\\n",
       "0                                                   0   \n",
       "1                                                   0   \n",
       "2                                                   0   \n",
       "3                                                   0   \n",
       "4                                                   0   \n",
       "...                                               ...   \n",
       "4914                                                0   \n",
       "4915                                                0   \n",
       "4916                                                0   \n",
       "4917                                                0   \n",
       "4918                                                0   \n",
       "\n",
       "      genres_Action|Adventure|Animation|Comedy|Family|Fantasy  ...  \\\n",
       "0                                                     0        ...   \n",
       "1                                                     0        ...   \n",
       "2                                                     0        ...   \n",
       "3                                                     0        ...   \n",
       "4                                                     0        ...   \n",
       "...                                                 ...        ...   \n",
       "4914                                                  0        ...   \n",
       "4915                                                  0        ...   \n",
       "4916                                                  0        ...   \n",
       "4917                                                  0        ...   \n",
       "4918                                                  0        ...   \n",
       "\n",
       "      genres_Mystery|Western  genres_Romance  genres_Romance|Sci-Fi|Thriller  \\\n",
       "0                          0               0                               0   \n",
       "1                          0               0                               0   \n",
       "2                          0               0                               0   \n",
       "3                          0               0                               0   \n",
       "4                          0               0                               0   \n",
       "...                      ...             ...                             ...   \n",
       "4914                       0               0                               0   \n",
       "4915                       0               0                               0   \n",
       "4916                       0               0                               0   \n",
       "4917                       0               0                               0   \n",
       "4918                       0               0                               0   \n",
       "\n",
       "      genres_Romance|Short  genres_Sci-Fi  genres_Sci-Fi|Thriller  \\\n",
       "0                        0              0                       0   \n",
       "1                        0              0                       0   \n",
       "2                        0              0                       0   \n",
       "3                        0              0                       0   \n",
       "4                        0              0                       0   \n",
       "...                    ...            ...                     ...   \n",
       "4914                     0              0                       0   \n",
       "4915                     0              0                       0   \n",
       "4916                     0              0                       0   \n",
       "4917                     0              0                       0   \n",
       "4918                     0              0                       0   \n",
       "\n",
       "      genres_Thriller  genres_Thriller|War  genres_Thriller|Western  \\\n",
       "0                   0                    0                        0   \n",
       "1                   0                    0                        0   \n",
       "2                   0                    0                        0   \n",
       "3                   0                    0                        0   \n",
       "4                   0                    0                        0   \n",
       "...               ...                  ...                      ...   \n",
       "4914                0                    0                        0   \n",
       "4915                0                    0                        0   \n",
       "4916                0                    0                        0   \n",
       "4917                0                    0                        0   \n",
       "4918                0                    0                        0   \n",
       "\n",
       "      genres_Western  \n",
       "0                  0  \n",
       "1                  0  \n",
       "2                  0  \n",
       "3                  0  \n",
       "4                  0  \n",
       "...              ...  \n",
       "4914               0  \n",
       "4915               0  \n",
       "4916               0  \n",
       "4917               0  \n",
       "4918               0  \n",
       "\n",
       "[4919 rows x 917 columns]"
      ]
     },
     "execution_count": 21,
     "metadata": {},
     "output_type": "execute_result"
    }
   ],
   "source": [
    "is_categorical = np.where(movie_df_drop.dtypes == 'object')[0]\n",
    "movie_binary = pd.get_dummies(data = movie_df_drop, columns = movie_df_drop.columns[is_categorical])\n",
    "movie_binary  # "
   ]
  },
  {
   "cell_type": "code",
   "execution_count": 22,
   "id": "c6177b40",
   "metadata": {},
   "outputs": [],
   "source": [
    "X_train, X_test, y_train, y_test = \\\n",
    "train_test_split(movie_binary.drop(['oscar'], axis = 1), \\\n",
    "                 movie_binary['oscar'], train_size = 0.7, random_state = 42)"
   ]
  },
  {
   "cell_type": "code",
   "execution_count": 24,
   "id": "0a5904ed",
   "metadata": {},
   "outputs": [
    {
     "data": {
      "text/plain": [
       "DecisionTreeClassifier(max_depth=5, random_state=42)"
      ]
     },
     "execution_count": 24,
     "metadata": {},
     "output_type": "execute_result"
    }
   ],
   "source": [
    "model = DecisionTreeClassifier(max_depth=5, random_state=42)\n",
    "model.fit(X_train, y_train)"
   ]
  },
  {
   "cell_type": "code",
   "execution_count": 25,
   "id": "b70588f0",
   "metadata": {},
   "outputs": [
    {
     "data": {
      "text/plain": [
       "0.922"
      ]
     },
     "execution_count": 25,
     "metadata": {},
     "output_type": "execute_result"
    }
   ],
   "source": [
    "model_pred = model.predict(X_test)\n",
    "np.round(accuracy_score(y_test, model_pred),3) "
   ]
  },
  {
   "cell_type": "code",
   "execution_count": 26,
   "id": "7b2301e0",
   "metadata": {},
   "outputs": [],
   "source": [
    "# Itereren over een aantal hyperparameters\n",
    "max_depth = 200\n",
    "depths = range(max_depth)\n",
    "min_leaf = [5,10,25,50]\n",
    "min_split = [5, 10,25,50]\n",
    "\n",
    "best_depth = 0\n",
    "best_leaf = 0\n",
    "best_split = 0\n",
    "highscore = 0\n",
    "\n",
    "for depth in depths[1:]:\n",
    "    for leaf in min_leaf:\n",
    "        for split in min_split:\n",
    "            model = DecisionTreeClassifier(max_depth=depth, min_samples_leaf = leaf, min_samples_split = split)\n",
    "            model.fit(X_train, y_train)\n",
    "            model_pred = model.predict(X_test)\n",
    "            score = accuracy_score(y_test, model_pred) \n",
    "            if score > highscore:\n",
    "                highscore = score\n",
    "                best_depth = depth\n",
    "                best_leaf = leaf\n",
    "                best_split = split"
   ]
  },
  {
   "cell_type": "code",
   "execution_count": 27,
   "id": "d6e55f5d",
   "metadata": {},
   "outputs": [
    {
     "name": "stdout",
     "output_type": "stream",
     "text": [
      "Highscore:  0.9255\n",
      "Best max_depth:  1\n",
      "Best min_leaf:  5\n",
      "Best min_split:  5\n"
     ]
    }
   ],
   "source": [
    "print(\"Highscore: \", np.round(highscore,4))\n",
    "print(\"Best max_depth: \", best_depth)\n",
    "print(\"Best min_leaf: \", best_leaf)\n",
    "print(\"Best min_split: \", best_split)"
   ]
  },
  {
   "cell_type": "code",
   "execution_count": 28,
   "id": "7c3a21cf",
   "metadata": {},
   "outputs": [],
   "source": [
    "y_pred_baseline = np.zeros(len(y_test))"
   ]
  },
  {
   "cell_type": "code",
   "execution_count": 29,
   "id": "889362b1",
   "metadata": {},
   "outputs": [
    {
     "data": {
      "text/plain": [
       "0.9254742547425474"
      ]
     },
     "execution_count": 29,
     "metadata": {},
     "output_type": "execute_result"
    }
   ],
   "source": [
    "accuracy_score(y_test, y_pred_baseline)"
   ]
  },
  {
   "cell_type": "code",
   "execution_count": 30,
   "id": "1954140f",
   "metadata": {},
   "outputs": [
    {
     "data": {
      "text/plain": [
       "DecisionTreeClassifier(max_depth=1, min_samples_leaf=5, min_samples_split=5)"
      ]
     },
     "execution_count": 30,
     "metadata": {},
     "output_type": "execute_result"
    }
   ],
   "source": [
    "model = DecisionTreeClassifier(max_depth=best_depth, min_samples_leaf = best_leaf, min_samples_split = best_split)\n",
    "model.fit(X_train, y_train)"
   ]
  },
  {
   "cell_type": "code",
   "execution_count": 31,
   "id": "db023f6f",
   "metadata": {},
   "outputs": [
    {
     "data": {
      "image/png": "[encoded data removed]",
      "text/plain": [
       "<Figure size 720x360 with 1 Axes>"
      ]
     },
     "metadata": {
      "needs_background": "light"
     },
     "output_type": "display_data"
    }
   ],
   "source": [
    "fig = plt.figure(figsize=(10,5))\n",
    "_ = tree.plot_tree(model, filled=True, fontsize = 8)"
   ]
  }
 ],
 "metadata": {
  "kernelspec": {
   "display_name": "Python 3 (ipykernel)",
   "language": "python",
   "name": "python3"
  },
  "language_info": {
   "codemirror_mode": {
    "name": "ipython",
    "version": 3
   },
   "file_extension": ".py",
   "mimetype": "text/x-python",
   "name": "python",
   "nbconvert_exporter": "python",
   "pygments_lexer": "ipython3",
   "version": "3.9.7"
  }
 },
 "nbformat": 4,
 "nbformat_minor": 5
}
