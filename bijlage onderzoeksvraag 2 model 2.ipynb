{
 "cells": [
  {
   "cell_type": "code",
   "execution_count": 1,
   "id": "27db109a",
   "metadata": {},
   "outputs": [],
   "source": [
    "# Command to enable 3d widgets\n",
    "import numpy as np\n",
    "import pandas as pd\n",
    "import matplotlib.pyplot as plt\n",
    "from sklearn.datasets import load_digits\n",
    "from sklearn.model_selection import train_test_split\n",
    "from sklearn.metrics import accuracy_score\n",
    "from sklearn.tree import DecisionTreeClassifier\n",
    "from sklearn import tree\n",
    "\n"
   ]
  },
  {
   "cell_type": "code",
   "execution_count": 2,
   "id": "7d021194",
   "metadata": {},
   "outputs": [],
   "source": [
    "# Loads the movie dataset.\n",
    "movie_df = pd.read_csv(\"movie.csv\", delimiter=\",\")\n",
    "\n",
    "oscars = pd.read_csv(\"the_oscar_award.csv\")\n"
   ]
  },
  {
   "cell_type": "code",
   "execution_count": 3,
   "id": "0f05b283",
   "metadata": {},
   "outputs": [
    {
     "data": {
      "text/plain": [
       "117"
      ]
     },
     "execution_count": 3,
     "metadata": {},
     "output_type": "execute_result"
    }
   ],
   "source": [
    "counts = movie_df[\"movie_imdb_link\"].value_counts()\n",
    "\n",
    "len(counts[counts > 1])"
   ]
  },
  {
   "cell_type": "code",
   "execution_count": 4,
   "id": "27632fb4",
   "metadata": {},
   "outputs": [
    {
     "data": {
      "text/plain": [
       "1"
      ]
     },
     "execution_count": 4,
     "metadata": {},
     "output_type": "execute_result"
    }
   ],
   "source": [
    "movie_df = movie_df.drop_duplicates(subset=[\"movie_imdb_link\"], keep=\"first\")\n",
    "\n",
    "movie_df[\"movie_imdb_link\"].value_counts().max()"
   ]
  },
  {
   "cell_type": "code",
   "execution_count": 5,
   "id": "dfeb096f",
   "metadata": {},
   "outputs": [
    {
     "data": {
      "text/plain": [
       "2"
      ]
     },
     "execution_count": 5,
     "metadata": {},
     "output_type": "execute_result"
    }
   ],
   "source": [
    "counts = movie_df[\"movie_title\"].value_counts()\n",
    "len(counts[counts > 1])"
   ]
  },
  {
   "cell_type": "code",
   "execution_count": 6,
   "id": "e61eefd5",
   "metadata": {},
   "outputs": [],
   "source": [
    "movie_df[\"movie_title\"].fillna(0, inplace=True)"
   ]
  },
  {
   "cell_type": "code",
   "execution_count": 7,
   "id": "4feaad4f",
   "metadata": {},
   "outputs": [
    {
     "data": {
      "text/plain": [
       "The Host            2\n",
       "Out of the Blue     2\n",
       "Avatar              1\n",
       "The Rose            1\n",
       "Glitter             1\n",
       "Name: movie_title, dtype: int64"
      ]
     },
     "execution_count": 7,
     "metadata": {},
     "output_type": "execute_result"
    }
   ],
   "source": [
    "counts = movie_df[\"movie_title\"].value_counts()\n",
    "counts.head()"
   ]
  },
  {
   "cell_type": "code",
   "execution_count": 8,
   "id": "9ee72da5",
   "metadata": {},
   "outputs": [
    {
     "data": {
      "text/plain": [
       "(0, 7)"
      ]
     },
     "execution_count": 8,
     "metadata": {},
     "output_type": "execute_result"
    }
   ],
   "source": [
    "oscars.dropna(how=\"any\", inplace=True)\n",
    "\n",
    "# Drops all oscar nominations that have not won\n",
    "oscars = oscars[oscars[\"winner\"]]\n",
    "\n",
    "oscars.loc[(oscars[\"film\"] == oscars[\"film\"]) & (oscars[\"year_film\"] != oscars[\"year_film\"]), :].shape"
   ]
  },
  {
   "cell_type": "code",
   "execution_count": 9,
   "id": "341e01db",
   "metadata": {},
   "outputs": [
    {
     "data": {
      "text/plain": [
       "(0, 7)"
      ]
     },
     "execution_count": 9,
     "metadata": {},
     "output_type": "execute_result"
    }
   ],
   "source": [
    "oscars.dropna(how=\"any\", inplace=True)\n",
    "\n",
    "# Drops all oscar nominations that have not won\n",
    "oscars = oscars[oscars[\"winner\"]]\n",
    "\n",
    "oscars.loc[(oscars[\"film\"] == oscars[\"film\"]) & (oscars[\"year_film\"] != oscars[\"year_film\"]), :].shape"
   ]
  },
  {
   "cell_type": "code",
   "execution_count": 10,
   "id": "aa13ceaf",
   "metadata": {},
   "outputs": [
    {
     "data": {
      "text/html": [
       "<div>\n",
       "<style scoped>\n",
       "    .dataframe tbody tr th:only-of-type {\n",
       "        vertical-align: middle;\n",
       "    }\n",
       "\n",
       "    .dataframe tbody tr th {\n",
       "        vertical-align: top;\n",
       "    }\n",
       "\n",
       "    .dataframe thead th {\n",
       "        text-align: right;\n",
       "    }\n",
       "</style>\n",
       "<table border=\"1\" class=\"dataframe\">\n",
       "  <thead>\n",
       "    <tr style=\"text-align: right;\">\n",
       "      <th></th>\n",
       "      <th>year_film</th>\n",
       "      <th>year_ceremony</th>\n",
       "      <th>ceremony</th>\n",
       "      <th>category</th>\n",
       "      <th>name</th>\n",
       "      <th>film</th>\n",
       "      <th>winner</th>\n",
       "    </tr>\n",
       "  </thead>\n",
       "  <tbody>\n",
       "    <tr>\n",
       "      <th>1</th>\n",
       "      <td>1927</td>\n",
       "      <td>1928</td>\n",
       "      <td>1</td>\n",
       "      <td>ACTOR</td>\n",
       "      <td>Emil Jannings</td>\n",
       "      <td>The Last Command</td>\n",
       "      <td>True</td>\n",
       "    </tr>\n",
       "    <tr>\n",
       "      <th>6</th>\n",
       "      <td>1927</td>\n",
       "      <td>1928</td>\n",
       "      <td>1</td>\n",
       "      <td>ART DIRECTION</td>\n",
       "      <td>William Cameron Menzies</td>\n",
       "      <td>The Dove;</td>\n",
       "      <td>True</td>\n",
       "    </tr>\n",
       "    <tr>\n",
       "      <th>11</th>\n",
       "      <td>1927</td>\n",
       "      <td>1928</td>\n",
       "      <td>1</td>\n",
       "      <td>DIRECTING (Comedy Picture)</td>\n",
       "      <td>Lewis Milestone</td>\n",
       "      <td>Two Arabian Knights</td>\n",
       "      <td>True</td>\n",
       "    </tr>\n",
       "    <tr>\n",
       "      <th>21</th>\n",
       "      <td>1927</td>\n",
       "      <td>1928</td>\n",
       "      <td>1</td>\n",
       "      <td>OUTSTANDING PICTURE</td>\n",
       "      <td>Paramount Famous Lasky</td>\n",
       "      <td>Wings</td>\n",
       "      <td>True</td>\n",
       "    </tr>\n",
       "    <tr>\n",
       "      <th>22</th>\n",
       "      <td>1927</td>\n",
       "      <td>1928</td>\n",
       "      <td>1</td>\n",
       "      <td>UNIQUE AND ARTISTIC PICTURE</td>\n",
       "      <td>Fox</td>\n",
       "      <td>Sunrise</td>\n",
       "      <td>True</td>\n",
       "    </tr>\n",
       "  </tbody>\n",
       "</table>\n",
       "</div>"
      ],
      "text/plain": [
       "    year_film  year_ceremony  ceremony                     category  \\\n",
       "1        1927           1928         1                        ACTOR   \n",
       "6        1927           1928         1                ART DIRECTION   \n",
       "11       1927           1928         1   DIRECTING (Comedy Picture)   \n",
       "21       1927           1928         1          OUTSTANDING PICTURE   \n",
       "22       1927           1928         1  UNIQUE AND ARTISTIC PICTURE   \n",
       "\n",
       "                       name                 film  winner  \n",
       "1             Emil Jannings     The Last Command    True  \n",
       "6   William Cameron Menzies            The Dove;    True  \n",
       "11          Lewis Milestone  Two Arabian Knights    True  \n",
       "21   Paramount Famous Lasky                Wings    True  \n",
       "22                      Fox              Sunrise    True  "
      ]
     },
     "execution_count": 10,
     "metadata": {},
     "output_type": "execute_result"
    }
   ],
   "source": [
    "# Drops all oscars but one for each film.\n",
    "oscars.drop_duplicates(\"film\", keep=\"last\", inplace=True)\n",
    "\n",
    "oscars.head()"
   ]
  },
  {
   "cell_type": "code",
   "execution_count": 11,
   "id": "91359f9d",
   "metadata": {},
   "outputs": [
    {
     "name": "stdout",
     "output_type": "stream",
     "text": [
      "(4919, 29)\n"
     ]
    },
    {
     "data": {
      "text/plain": [
       "0"
      ]
     },
     "execution_count": 11,
     "metadata": {},
     "output_type": "execute_result"
    }
   ],
   "source": [
    "# Rename column names to match meaning in new dataset.\n",
    "oscars = oscars.rename({\"film\" : \"movie_title\", \"winner\" : \"oscar\"}, axis=1)\n",
    "# We only select the columns we need.\n",
    "oscars = oscars[[\"movie_title\", \"oscar\"]]\n",
    "\n",
    "def quick_clean(movie_data):\n",
    "    \"\"\"strips a string and turns all characters to lower caps.\"\"\"\n",
    "    return movie_data.lower().strip()\n",
    "\n",
    "# Cleans the name of the movie title in both datasets.\n",
    "oscars[\"movie_title\"] = oscars[\"movie_title\"].apply(quick_clean)\n",
    "movie_df[\"movie_title\"] = movie_df[\"movie_title\"].apply(quick_clean)\n",
    "\n",
    "# Merges the two datasets on the movie title.\n",
    "movie_df = pd.merge(movie_df, oscars, on=\"movie_title\", how=\"left\") \n",
    "movie_df[\"oscar\"] = movie_df[\"oscar\"].fillna(False)\n",
    "\n",
    "print(movie_df.shape)\n",
    "\n",
    "movie_df[\"oscar\"].isna().sum()"
   ]
  },
  {
   "cell_type": "code",
   "execution_count": 12,
   "id": "ccf7c2be",
   "metadata": {},
   "outputs": [
    {
     "data": {
      "text/plain": [
       "the dead zone                                       2\n",
       "the host                                            2\n",
       "out of the blue                                     2\n",
       "avatar                                              1\n",
       "the haunting in connecticut 2: ghosts of georgia    1\n",
       "Name: movie_title, dtype: int64"
      ]
     },
     "execution_count": 12,
     "metadata": {},
     "output_type": "execute_result"
    }
   ],
   "source": [
    "counts = movie_df[\"movie_title\"].value_counts()\n",
    "counts.head()"
   ]
  },
  {
   "cell_type": "code",
   "execution_count": 13,
   "id": "317258e3",
   "metadata": {},
   "outputs": [
    {
     "data": {
      "text/html": [
       "<div>\n",
       "<style scoped>\n",
       "    .dataframe tbody tr th:only-of-type {\n",
       "        vertical-align: middle;\n",
       "    }\n",
       "\n",
       "    .dataframe tbody tr th {\n",
       "        vertical-align: top;\n",
       "    }\n",
       "\n",
       "    .dataframe thead th {\n",
       "        text-align: right;\n",
       "    }\n",
       "</style>\n",
       "<table border=\"1\" class=\"dataframe\">\n",
       "  <thead>\n",
       "    <tr style=\"text-align: right;\">\n",
       "      <th></th>\n",
       "      <th>color</th>\n",
       "      <th>director_name</th>\n",
       "      <th>num_critic_for_reviews</th>\n",
       "      <th>duration</th>\n",
       "      <th>director_facebook_likes</th>\n",
       "      <th>actor_3_facebook_likes</th>\n",
       "      <th>actor_2_name</th>\n",
       "      <th>actor_1_facebook_likes</th>\n",
       "      <th>gross</th>\n",
       "      <th>genres</th>\n",
       "      <th>...</th>\n",
       "      <th>language</th>\n",
       "      <th>country</th>\n",
       "      <th>content_rating</th>\n",
       "      <th>budget</th>\n",
       "      <th>title_year</th>\n",
       "      <th>actor_2_facebook_likes</th>\n",
       "      <th>imdb_score</th>\n",
       "      <th>aspect_ratio</th>\n",
       "      <th>movie_facebook_likes</th>\n",
       "      <th>oscar</th>\n",
       "    </tr>\n",
       "  </thead>\n",
       "  <tbody>\n",
       "    <tr>\n",
       "      <th>2662</th>\n",
       "      <td>Color</td>\n",
       "      <td>NaN</td>\n",
       "      <td>18.0</td>\n",
       "      <td>60.0</td>\n",
       "      <td>NaN</td>\n",
       "      <td>186.0</td>\n",
       "      <td>Nicole de Boer</td>\n",
       "      <td>443.0</td>\n",
       "      <td>NaN</td>\n",
       "      <td>Drama|Fantasy|Mystery|Sci-Fi</td>\n",
       "      <td>...</td>\n",
       "      <td>English</td>\n",
       "      <td>Canada</td>\n",
       "      <td>TV-14</td>\n",
       "      <td>NaN</td>\n",
       "      <td>NaN</td>\n",
       "      <td>319.0</td>\n",
       "      <td>7.5</td>\n",
       "      <td>NaN</td>\n",
       "      <td>576</td>\n",
       "      <td>False</td>\n",
       "    </tr>\n",
       "    <tr>\n",
       "      <th>3077</th>\n",
       "      <td>Color</td>\n",
       "      <td>David Cronenberg</td>\n",
       "      <td>112.0</td>\n",
       "      <td>103.0</td>\n",
       "      <td>0.0</td>\n",
       "      <td>275.0</td>\n",
       "      <td>Herbert Lom</td>\n",
       "      <td>1000.0</td>\n",
       "      <td>NaN</td>\n",
       "      <td>Horror|Sci-Fi|Thriller</td>\n",
       "      <td>...</td>\n",
       "      <td>English</td>\n",
       "      <td>USA</td>\n",
       "      <td>R</td>\n",
       "      <td>10000000.0</td>\n",
       "      <td>1983.0</td>\n",
       "      <td>278.0</td>\n",
       "      <td>7.2</td>\n",
       "      <td>1.85</td>\n",
       "      <td>0</td>\n",
       "      <td>False</td>\n",
       "    </tr>\n",
       "  </tbody>\n",
       "</table>\n",
       "<p>2 rows × 29 columns</p>\n",
       "</div>"
      ],
      "text/plain": [
       "      color     director_name  num_critic_for_reviews  duration  \\\n",
       "2662  Color               NaN                    18.0      60.0   \n",
       "3077  Color  David Cronenberg                   112.0     103.0   \n",
       "\n",
       "      director_facebook_likes  actor_3_facebook_likes    actor_2_name  \\\n",
       "2662                      NaN                   186.0  Nicole de Boer   \n",
       "3077                      0.0                   275.0     Herbert Lom   \n",
       "\n",
       "      actor_1_facebook_likes  gross                        genres  ...  \\\n",
       "2662                   443.0    NaN  Drama|Fantasy|Mystery|Sci-Fi  ...   \n",
       "3077                  1000.0    NaN        Horror|Sci-Fi|Thriller  ...   \n",
       "\n",
       "     language country  content_rating      budget title_year  \\\n",
       "2662  English  Canada           TV-14         NaN        NaN   \n",
       "3077  English     USA               R  10000000.0     1983.0   \n",
       "\n",
       "      actor_2_facebook_likes imdb_score aspect_ratio  movie_facebook_likes  \\\n",
       "2662                   319.0        7.5          NaN                   576   \n",
       "3077                   278.0        7.2         1.85                     0   \n",
       "\n",
       "      oscar  \n",
       "2662  False  \n",
       "3077  False  \n",
       "\n",
       "[2 rows x 29 columns]"
      ]
     },
     "execution_count": 13,
     "metadata": {},
     "output_type": "execute_result"
    }
   ],
   "source": [
    "movie_df[movie_df[\"movie_title\"] == \"the dead zone\"]"
   ]
  },
  {
   "cell_type": "code",
   "execution_count": 14,
   "id": "5060dae2",
   "metadata": {},
   "outputs": [
    {
     "data": {
      "text/plain": [
       "color                         19\n",
       "director_name                102\n",
       "num_critic_for_reviews        49\n",
       "duration                      15\n",
       "director_facebook_likes      102\n",
       "actor_3_facebook_likes        23\n",
       "actor_2_name                  13\n",
       "actor_1_facebook_likes         7\n",
       "gross                        863\n",
       "genres                         0\n",
       "actor_1_name                   7\n",
       "movie_title                    0\n",
       "num_voted_users                0\n",
       "cast_total_facebook_likes      0\n",
       "actor_3_name                  23\n",
       "facenumber_in_poster          13\n",
       "plot_keywords                152\n",
       "movie_imdb_link                0\n",
       "num_user_for_reviews          21\n",
       "language                      12\n",
       "country                        5\n",
       "content_rating               301\n",
       "budget                       485\n",
       "title_year                   106\n",
       "actor_2_facebook_likes        13\n",
       "imdb_score                     0\n",
       "aspect_ratio                 326\n",
       "movie_facebook_likes           0\n",
       "oscar                          0\n",
       "dtype: int64"
      ]
     },
     "execution_count": 14,
     "metadata": {},
     "output_type": "execute_result"
    }
   ],
   "source": [
    "movie_df.isna().sum()"
   ]
  },
  {
   "cell_type": "code",
   "execution_count": null,
   "id": "5b6aa788",
   "metadata": {},
   "outputs": [],
   "source": []
  },
  {
   "cell_type": "code",
   "execution_count": 81,
   "id": "ad96ccd5",
   "metadata": {},
   "outputs": [],
   "source": [
    "movie_df_drop = movie_df.drop(['color', 'director_name','plot_keywords','content_rating','genres','title_year','actor_2_facebook_likes','aspect_ratio','num_critic_for_reviews','actor_2_name','actor_3_name','movie_imdb_link','language','country','movie_title','actor_1_name','director_facebook_likes','actor_3_facebook_likes','facenumber_in_poster','actor_1_facebook_likes','num_user_for_reviews','budget','cast_total_facebook_likes','movie_facebook_likes','duration'], axis = 1)"
   ]
  },
  {
   "cell_type": "code",
   "execution_count": 82,
   "id": "38ef2f93",
   "metadata": {},
   "outputs": [],
   "source": [
    "movie_df_drop[\"imdb_score\"].fillna(0, inplace=True)"
   ]
  },
  {
   "cell_type": "code",
   "execution_count": 83,
   "id": "248606cb",
   "metadata": {},
   "outputs": [],
   "source": [
    "movie_df_drop[\"gross\"].fillna(0, inplace=True)"
   ]
  },
  {
   "cell_type": "code",
   "execution_count": 65,
   "id": "65c17f35",
   "metadata": {},
   "outputs": [],
   "source": []
  },
  {
   "cell_type": "code",
   "execution_count": 84,
   "id": "ddb90fc7",
   "metadata": {},
   "outputs": [],
   "source": [
    "movie_df_drop[\"num_voted_users\"].fillna(0, inplace=True)"
   ]
  },
  {
   "cell_type": "code",
   "execution_count": 85,
   "id": "280b1916",
   "metadata": {},
   "outputs": [
    {
     "data": {
      "text/plain": [
       "gross              0\n",
       "num_voted_users    0\n",
       "imdb_score         0\n",
       "oscar              0\n",
       "dtype: int64"
      ]
     },
     "execution_count": 85,
     "metadata": {},
     "output_type": "execute_result"
    }
   ],
   "source": [
    "movie_df_drop.isna().sum()"
   ]
  },
  {
   "cell_type": "code",
   "execution_count": null,
   "id": "ec79efbc",
   "metadata": {},
   "outputs": [],
   "source": []
  },
  {
   "cell_type": "code",
   "execution_count": 86,
   "id": "310fe246",
   "metadata": {},
   "outputs": [
    {
     "data": {
      "text/html": [
       "<div>\n",
       "<style scoped>\n",
       "    .dataframe tbody tr th:only-of-type {\n",
       "        vertical-align: middle;\n",
       "    }\n",
       "\n",
       "    .dataframe tbody tr th {\n",
       "        vertical-align: top;\n",
       "    }\n",
       "\n",
       "    .dataframe thead th {\n",
       "        text-align: right;\n",
       "    }\n",
       "</style>\n",
       "<table border=\"1\" class=\"dataframe\">\n",
       "  <thead>\n",
       "    <tr style=\"text-align: right;\">\n",
       "      <th></th>\n",
       "      <th>gross</th>\n",
       "      <th>num_voted_users</th>\n",
       "      <th>imdb_score</th>\n",
       "      <th>oscar</th>\n",
       "    </tr>\n",
       "  </thead>\n",
       "  <tbody>\n",
       "    <tr>\n",
       "      <th>0</th>\n",
       "      <td>760505847.0</td>\n",
       "      <td>886204</td>\n",
       "      <td>7.9</td>\n",
       "      <td>True</td>\n",
       "    </tr>\n",
       "    <tr>\n",
       "      <th>1</th>\n",
       "      <td>309404152.0</td>\n",
       "      <td>471220</td>\n",
       "      <td>7.1</td>\n",
       "      <td>False</td>\n",
       "    </tr>\n",
       "    <tr>\n",
       "      <th>2</th>\n",
       "      <td>200074175.0</td>\n",
       "      <td>275868</td>\n",
       "      <td>6.8</td>\n",
       "      <td>True</td>\n",
       "    </tr>\n",
       "    <tr>\n",
       "      <th>3</th>\n",
       "      <td>448130642.0</td>\n",
       "      <td>1144337</td>\n",
       "      <td>8.5</td>\n",
       "      <td>False</td>\n",
       "    </tr>\n",
       "    <tr>\n",
       "      <th>4</th>\n",
       "      <td>0.0</td>\n",
       "      <td>8</td>\n",
       "      <td>7.1</td>\n",
       "      <td>False</td>\n",
       "    </tr>\n",
       "    <tr>\n",
       "      <th>...</th>\n",
       "      <td>...</td>\n",
       "      <td>...</td>\n",
       "      <td>...</td>\n",
       "      <td>...</td>\n",
       "    </tr>\n",
       "    <tr>\n",
       "      <th>4914</th>\n",
       "      <td>0.0</td>\n",
       "      <td>629</td>\n",
       "      <td>7.7</td>\n",
       "      <td>False</td>\n",
       "    </tr>\n",
       "    <tr>\n",
       "      <th>4915</th>\n",
       "      <td>0.0</td>\n",
       "      <td>73839</td>\n",
       "      <td>7.5</td>\n",
       "      <td>False</td>\n",
       "    </tr>\n",
       "    <tr>\n",
       "      <th>4916</th>\n",
       "      <td>0.0</td>\n",
       "      <td>38</td>\n",
       "      <td>6.3</td>\n",
       "      <td>False</td>\n",
       "    </tr>\n",
       "    <tr>\n",
       "      <th>4917</th>\n",
       "      <td>10443.0</td>\n",
       "      <td>1255</td>\n",
       "      <td>6.3</td>\n",
       "      <td>False</td>\n",
       "    </tr>\n",
       "    <tr>\n",
       "      <th>4918</th>\n",
       "      <td>85222.0</td>\n",
       "      <td>4285</td>\n",
       "      <td>6.6</td>\n",
       "      <td>False</td>\n",
       "    </tr>\n",
       "  </tbody>\n",
       "</table>\n",
       "<p>4919 rows × 4 columns</p>\n",
       "</div>"
      ],
      "text/plain": [
       "            gross  num_voted_users  imdb_score  oscar\n",
       "0     760505847.0           886204         7.9   True\n",
       "1     309404152.0           471220         7.1  False\n",
       "2     200074175.0           275868         6.8   True\n",
       "3     448130642.0          1144337         8.5  False\n",
       "4             0.0                8         7.1  False\n",
       "...           ...              ...         ...    ...\n",
       "4914          0.0              629         7.7  False\n",
       "4915          0.0            73839         7.5  False\n",
       "4916          0.0               38         6.3  False\n",
       "4917      10443.0             1255         6.3  False\n",
       "4918      85222.0             4285         6.6  False\n",
       "\n",
       "[4919 rows x 4 columns]"
      ]
     },
     "execution_count": 86,
     "metadata": {},
     "output_type": "execute_result"
    }
   ],
   "source": [
    "is_categorical = np.where(movie_df_drop.dtypes == 'object')[0]\n",
    "movie_binary = pd.get_dummies(data = movie_df_drop, columns = movie_df_drop.columns[is_categorical])\n",
    "movie_binary"
   ]
  },
  {
   "cell_type": "code",
   "execution_count": 87,
   "id": "21dc2c8a",
   "metadata": {},
   "outputs": [],
   "source": [
    "X_train, X_test, y_train, y_test = \\\n",
    "train_test_split(movie_binary.drop(['oscar'], axis = 1), \\\n",
    "                 movie_binary['oscar'], train_size = 0.7, random_state = 42)"
   ]
  },
  {
   "cell_type": "code",
   "execution_count": 88,
   "id": "60bfd54b",
   "metadata": {},
   "outputs": [
    {
     "data": {
      "text/plain": [
       "DecisionTreeClassifier(max_depth=5, random_state=42)"
      ]
     },
     "execution_count": 88,
     "metadata": {},
     "output_type": "execute_result"
    }
   ],
   "source": [
    "model = DecisionTreeClassifier(max_depth=5, random_state=42)\n",
    "model.fit(X_train, y_train)"
   ]
  },
  {
   "cell_type": "code",
   "execution_count": 89,
   "id": "faeb1c58",
   "metadata": {},
   "outputs": [
    {
     "data": {
      "text/plain": [
       "0.921"
      ]
     },
     "execution_count": 89,
     "metadata": {},
     "output_type": "execute_result"
    }
   ],
   "source": [
    "model_pred = model.predict(X_test)\n",
    "np.round(accuracy_score(y_test, model_pred),3) "
   ]
  },
  {
   "cell_type": "code",
   "execution_count": 90,
   "id": "4438f31c",
   "metadata": {},
   "outputs": [],
   "source": [
    "# Itereren over een aantal hyperparameters\n",
    "max_depth = 200\n",
    "depths = range(max_depth)\n",
    "min_leaf = [5,10,25,50]\n",
    "min_split = [5, 10,25,50]\n",
    "\n",
    "best_depth = 0\n",
    "best_leaf = 0\n",
    "best_split = 0\n",
    "highscore = 0\n",
    "\n",
    "for depth in depths[1:]:\n",
    "    for leaf in min_leaf:\n",
    "        for split in min_split:\n",
    "            model = DecisionTreeClassifier(max_depth=depth, min_samples_leaf = leaf, min_samples_split = split)\n",
    "            model.fit(X_train, y_train)\n",
    "            model_pred = model.predict(X_test)\n",
    "            score = accuracy_score(y_test, model_pred) \n",
    "            if score > highscore:\n",
    "                highscore = score\n",
    "                best_depth = depth\n",
    "                best_leaf = leaf\n",
    "                best_split = split"
   ]
  },
  {
   "cell_type": "code",
   "execution_count": 97,
   "id": "716191ce",
   "metadata": {},
   "outputs": [
    {
     "name": "stdout",
     "output_type": "stream",
     "text": [
      "Highscore:  0.928\n",
      "Best max_depth:  7\n",
      "Best min_leaf:  10\n",
      "Best min_split:  5\n"
     ]
    }
   ],
   "source": [
    "print(\"Highscore: \", np.round(highscore,3))\n",
    "print(\"Best max_depth: \", best_depth)\n",
    "print(\"Best min_leaf: \", best_leaf)\n",
    "print(\"Best min_split: \", best_split)\n"
   ]
  },
  {
   "cell_type": "code",
   "execution_count": 92,
   "id": "b7d6e2aa",
   "metadata": {},
   "outputs": [],
   "source": [
    "y_pred_baseline = np.zeros(len(y_test))"
   ]
  },
  {
   "cell_type": "code",
   "execution_count": 93,
   "id": "76c8b1de",
   "metadata": {},
   "outputs": [
    {
     "data": {
      "text/plain": [
       "0.9254742547425474"
      ]
     },
     "execution_count": 93,
     "metadata": {},
     "output_type": "execute_result"
    }
   ],
   "source": [
    "accuracy_score(y_test, y_pred_baseline)"
   ]
  },
  {
   "cell_type": "code",
   "execution_count": 94,
   "id": "47e92fa6",
   "metadata": {},
   "outputs": [
    {
     "data": {
      "text/plain": [
       "DecisionTreeClassifier(max_depth=7, min_samples_leaf=10, min_samples_split=5)"
      ]
     },
     "execution_count": 94,
     "metadata": {},
     "output_type": "execute_result"
    }
   ],
   "source": [
    "model = DecisionTreeClassifier(max_depth=best_depth, min_samples_leaf = best_leaf, min_samples_split = best_split)\n",
    "model.fit(X_train, y_train)"
   ]
  },
  {
   "cell_type": "code",
   "execution_count": 95,
   "id": "3d7008e5",
   "metadata": {
    "scrolled": false
   },
   "outputs": [
    {
     "data": {
      "image/png": "[encoded data removed]",
      "text/plain": [
       "<Figure size 720x360 with 1 Axes>"
      ]
     },
     "metadata": {
      "needs_background": "light"
     },
     "output_type": "display_data"
    }
   ],
   "source": [
    "fig = plt.figure(figsize=(10,5))\n",
    "_ = tree.plot_tree(model, filled=True, fontsize = 8)"
   ]
  },
  {
   "cell_type": "code",
   "execution_count": 29,
   "id": "d7b01b45",
   "metadata": {},
   "outputs": [
    {
     "ename": "NameError",
     "evalue": "name 'df2' is not defined",
     "output_type": "error",
     "traceback": [
      "\u001b[0;31m---------------------------------------------------------------------------\u001b[0m",
      "\u001b[0;31mNameError\u001b[0m                                 Traceback (most recent call last)",
      "\u001b[0;32m/var/folders/mm/rbvf9ps94cg8t0ws__6jy2m80000gn/T/ipykernel_9501/3361813056.py\u001b[0m in \u001b[0;36m<module>\u001b[0;34m\u001b[0m\n\u001b[0;32m----> 1\u001b[0;31m \u001b[0mdf2_drop\u001b[0m \u001b[0;34m=\u001b[0m \u001b[0mdf2\u001b[0m\u001b[0;34m.\u001b[0m\u001b[0mdrop\u001b[0m\u001b[0;34m(\u001b[0m\u001b[0;34m[\u001b[0m\u001b[0;34m'df2year_film'\u001b[0m\u001b[0;34m,\u001b[0m \u001b[0;34m'df2year_ceremony'\u001b[0m\u001b[0;34m,\u001b[0m \u001b[0;34m'df2category'\u001b[0m\u001b[0;34m,\u001b[0m\u001b[0;34m'df2name'\u001b[0m\u001b[0;34m,\u001b[0m\u001b[0;34m'df2ceremony'\u001b[0m\u001b[0;34m]\u001b[0m\u001b[0;34m,\u001b[0m \u001b[0maxis\u001b[0m \u001b[0;34m=\u001b[0m \u001b[0;36m1\u001b[0m\u001b[0;34m)\u001b[0m\u001b[0;34m\u001b[0m\u001b[0;34m\u001b[0m\u001b[0m\n\u001b[0m",
      "\u001b[0;31mNameError\u001b[0m: name 'df2' is not defined"
     ]
    }
   ],
   "source": []
  },
  {
   "cell_type": "code",
   "execution_count": null,
   "id": "9549bb6c",
   "metadata": {},
   "outputs": [],
   "source": []
  },
  {
   "cell_type": "code",
   "execution_count": null,
   "id": "e6e083e5",
   "metadata": {},
   "outputs": [],
   "source": []
  },
  {
   "cell_type": "code",
   "execution_count": null,
   "id": "63a4d957",
   "metadata": {},
   "outputs": [],
   "source": []
  },
  {
   "cell_type": "code",
   "execution_count": null,
   "id": "3c62f6a9",
   "metadata": {},
   "outputs": [],
   "source": []
  },
  {
   "cell_type": "code",
   "execution_count": null,
   "id": "2920aa13",
   "metadata": {},
   "outputs": [],
   "source": []
  },
  {
   "cell_type": "code",
   "execution_count": null,
   "id": "9ce9ed26",
   "metadata": {},
   "outputs": [],
   "source": []
  },
  {
   "cell_type": "code",
   "execution_count": null,
   "id": "98f11407",
   "metadata": {},
   "outputs": [],
   "source": []
  },
  {
   "cell_type": "code",
   "execution_count": null,
   "id": "7ed4a483",
   "metadata": {},
   "outputs": [],
   "source": []
  },
  {
   "cell_type": "code",
   "execution_count": null,
   "id": "72c5318c",
   "metadata": {
    "scrolled": true
   },
   "outputs": [],
   "source": []
  },
  {
   "cell_type": "code",
   "execution_count": null,
   "id": "e6a59fb3",
   "metadata": {},
   "outputs": [],
   "source": []
  }
 ],
 "metadata": {
  "kernelspec": {
   "display_name": "Python 3 (ipykernel)",
   "language": "python",
   "name": "python3"
  },
  "language_info": {
   "codemirror_mode": {
    "name": "ipython",
    "version": 3
   },
   "file_extension": ".py",
   "mimetype": "text/x-python",
   "name": "python",
   "nbconvert_exporter": "python",
   "pygments_lexer": "ipython3",
   "version": "3.9.7"
  }
 },
 "nbformat": 4,
 "nbformat_minor": 5
}
